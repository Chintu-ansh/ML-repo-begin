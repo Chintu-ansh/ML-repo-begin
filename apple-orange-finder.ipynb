{
 "cells": [
  {
   "cell_type": "code",
   "execution_count": 14,
   "id": "76bd4f40-36b6-436d-8931-0e734b884456",
   "metadata": {},
   "outputs": [
    {
     "name": "stdout",
     "output_type": "stream",
     "text": [
      "The given Fruit is  ['apple']\n",
      "The given Fruit is  ['orange']\n"
     ]
    }
   ],
   "source": [
    "from sklearn import tree\n",
    "\n",
    "features = [\n",
    "    [150, 0],  # Apple\n",
    "    [170, 0],  # Apple\n",
    "    [130, 1],  # Orange\n",
    "    [120, 1],  # Orange\n",
    "]\n",
    "labels = [\"apple\", \"apple\", \"orange\", \"orange\"]\n",
    "\n",
    "\n",
    "clf = tree.DecisionTreeClassifier()\n",
    "clf = clf.fit(features, labels)\n",
    "\n",
    "\n",
    "print(\"The given Fruit is \",clf.predict([[160, 0]]))  \n",
    "print(\"The given Fruit is \",clf.predict([[115, 1]]))  \n"
   ]
  },
 
